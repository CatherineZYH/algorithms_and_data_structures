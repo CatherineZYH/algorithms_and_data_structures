{
 "cells": [
  {
   "cell_type": "markdown",
   "metadata": {},
   "source": [
    "# Practice Interview\n",
    "\n",
    "## Objective\n",
    "\n",
    "_*The partner assignment aims to provide participants with the opportunity to practice coding in an interview context. You will analyze your partner's Assignment 1. Moreover, code reviews are common practice in a software development team. This assignment should give you a taste of the code review process.*_\n",
    "\n",
    "## Group Size\n",
    "\n",
    "Each group should have 2 people. You will be assigned a partner\n",
    "\n",
    "## Part 1:\n",
    "\n",
    "You and your partner must share each other's Assignment 1 submission."
   ]
  },
  {
   "cell_type": "markdown",
   "metadata": {},
   "source": [
    "\n",
    "## Part 2:\n",
    "\n",
    "Create a Jupyter Notebook, create 6 of the following headings, and complete the following for your partner's assignment 1:\n",
    "\n",
    "-   Paraphrase the problem in your own words.\n"
   ]
  },
  {
   "cell_type": "markdown",
   "metadata": {},
   "source": [
    "Answer:\n",
    "The task is to identify the first duplicate value in a binary tree. This involves traversing the tree and keeping track of the values seen so far. If a value is encountered that has already been seen, that value should be returned as the first duplicate. If no duplicates are found, the function should return -1."
   ]
  },
  {
   "cell_type": "markdown",
   "metadata": {},
   "source": [
    "\n",
    "-   Create 1 new example that demonstrates you understand the problem. Trace/walkthrough 1 example that your partner made and explain it.\n"
   ]
  },
  {
   "cell_type": "markdown",
   "metadata": {},
   "source": [
    "# 1 new example: \n",
    "root = [5, 3, 7, 2, 5, 6, 8]\n",
    "return 5\n",
    "\n",
    "# partner example:\n",
    "root = [2,4,8,16,32,2,4]\n",
    "return 2\n",
    "\n",
    "# Explain:\n",
    "root = TreeNode(2)\n",
    "root.left = TreeNode(4)\n",
    "root.right = TreeNode(8)\n",
    "root.left.left = TreeNode(16)\n",
    "root.left.right = TreeNode(32)  \n",
    "root.right.left = TreeNode(2)   # Duplicate value\n",
    "root.right.right = TreeNode(4)\n",
    "\n",
    "print(is_duplicate(root))  # Output should be 2"
   ]
  },
  {
   "cell_type": "markdown",
   "metadata": {},
   "source": [
    "\n",
    "-   Copy the solution your partner wrote. \n"
   ]
  },
  {
   "cell_type": "code",
   "execution_count": null,
   "metadata": {},
   "outputs": [],
   "source": [
    "Definition for a binary tree node.\n",
    "class TreeNode(object):\n",
    "    def __init__(self, val = 0, left = None, right = None):\n",
    "        self.val = val\n",
    "        self.left = left\n",
    "        self.right = right\n",
    "        \n",
    "    def is_duplicate(root: TreeNode, t=set()) -> int:\n",
    "        if root == None:\n",
    "            return -1\n",
    "        elif root.val in t: #if the node has ever been encountered, then return the value it holds (an integer)\n",
    "            return root.val\n",
    "        else: #store root.val and recursive call\n",
    "            t.add = root.val\n",
    "            return max(is_duplicate(root.left,t),is_duplicate(root.right,t))"
   ]
  },
  {
   "cell_type": "markdown",
   "metadata": {},
   "source": [
    "\n",
    "-   Explain why their solution works in your own words.\n"
   ]
  },
  {
   "cell_type": "markdown",
   "metadata": {},
   "source": [
    "Answer:\n",
    "The solution works by recursively traversing the binary tree while maintaining a set of encountered values. As each node is visited, its value is checked against the set. If the value is already in the set, it indicates a duplicate and that value is returned. If not, the value is added to the set, and the traversal continues to the left and right children. The function returns the first duplicate value it encounters or -1 if no duplicates are found."
   ]
  },
  {
   "cell_type": "markdown",
   "metadata": {},
   "source": [
    "\n",
    "-   Explain the problem’s time and space complexity in your own words.\n"
   ]
  },
  {
   "cell_type": "markdown",
   "metadata": {},
   "source": [
    "Answer:\n",
    "The time complexity of the solution is O(n) and n is the number of nodes in the binary tree. This is because each node is visited exactly once. The space complexity is also O(n) but not in good shape. As the set used to track seen values may need to store all the node values if there are no duplicates. Additionally, the recursive call stack could also consume O(n) space."
   ]
  },
  {
   "cell_type": "markdown",
   "metadata": {},
   "source": [
    "\n",
    "-   Critique your partner's solution, including explanation, and if there is anything that should be adjusted.\n"
   ]
  },
  {
   "cell_type": "markdown",
   "metadata": {},
   "source": [
    "Answer:\n",
    "The solution is correct and efficiently solve the problem. However, one potential issue is the use of a mutable default argument which is the set t. Using mutable default arguments can lead to unexpected behavior because the same object is reused across function calls. A better approach is to use an immutable default argument and initialize the set inside the function."
   ]
  },
  {
   "cell_type": "markdown",
   "metadata": {},
   "source": [
    "\n",
    "## Part 3:\n",
    "\n",
    "Please write a 200 word reflection documenting your process from assignment 1, and your presentation and review experience with your partner at the bottom of the Jupyter Notebook under a new heading \"Reflection.\" Again, export this Notebook as pdf.\n"
   ]
  },
  {
   "cell_type": "markdown",
   "metadata": {},
   "source": [
    "### Reflection"
   ]
  },
  {
   "cell_type": "markdown",
   "metadata": {},
   "source": [
    "For my process from assignment 1 question 3, firstly, I have read the question deeply and ensure fully understood the requirements. Secondly, I started to use what I have learnt from courses to write the code by creating a set of the complete range and comparing it with the set of given number to come up the solution that found the missing numbers. Thirdly. I tested and validated the solution with the provided examples to ensure correctness. Fourthly, in order to further demonstrate understanding, I created additional examples with different scenarios, including cases with duplicates and all identical numbers to ensure the solution is correct. Fifthly, I have explored an alternative approach using a boolean array for potential memory efficiency, especially for large ranges. To sum up, this assignment helps me to better understand the process of finding the most effective solutions through multiple testing.\n",
    "\n",
    "For reviewing the partner's assignment question 1, I have learnt and understood the solution to find duplicate values in a binary tree. Firstly, I reviewed the given solution and identified some minor issues, such as the use of a mutable default argument. Secondly, I have created a new example to ensure I fully understand the problem and partner's coding logics. Thirdly, through critiquing the solution and suggesting an adjustment, I ensured my suggestion is actually solving the potential issues. To sum up, the reviewing partner's work process helped me reinforce my knowledge of binary tree traversal and recursion while also practicing code review and debugging skills. Collaborating with a partner allowed for valuable feedback and deeper insights into potential improvements, and this experience also enhanced my problem-solving abilities."
   ]
  },
  {
   "cell_type": "markdown",
   "metadata": {},
   "source": [
    "\n",
    "## Evaluation Criteria\n",
    "\n",
    "We are looking for the similar points as Assignment 1\n",
    "\n",
    "-   Problem is accurately stated\n",
    "\n",
    "-   New example is correct and easily understandable\n",
    "\n",
    "-   Correctness, time, and space complexity of the coding solution\n",
    "\n",
    "-   Clarity in explaining why the solution works, its time and space complexity\n",
    "\n",
    "-   Quality of critique of your partner's assignment, if necessary\n"
   ]
  },
  {
   "cell_type": "markdown",
   "metadata": {},
   "source": [
    "## Submission Information\n",
    "\n",
    "🚨 **Please review our [Assignment Submission Guide](https://github.com/UofT-DSI/onboarding/blob/main/onboarding_documents/submissions.md)** 🚨 for detailed instructions on how to format, branch, and submit your work. Following these guidelines is crucial for your submissions to be evaluated correctly.\n",
    "\n",
    "### Submission Parameters:\n",
    "* Submission Due Date: `HH:MM AM/PM - DD/MM/YYYY`\n",
    "* The branch name for your repo should be: `assignment-2`\n",
    "* What to submit for this assignment:\n",
    "    * This Jupyter Notebook (assignment_2.ipynb) should be populated and should be the only change in your pull request.\n",
    "* What the pull request link should look like for this assignment: `https://github.com/<your_github_username>/algorithms_and_data_structures/pull/<pr_id>`\n",
    "    * Open a private window in your browser. Copy and paste the link to your pull request into the address bar. Make sure you can see your pull request properly. This helps the technical facilitator and learning support staff review your submission easily.\n",
    "\n",
    "Checklist:\n",
    "- [ ] Created a branch with the correct naming convention.\n",
    "- [ ] Ensured that the repository is public.\n",
    "- [ ] Reviewed the PR description guidelines and adhered to them.\n",
    "- [ ] Verify that the link is accessible in a private browser window.\n",
    "\n",
    "If you encounter any difficulties or have questions, please don't hesitate to reach out to our team via our Slack at `#cohort-3-help`. Our Technical Facilitators and Learning Support staff are here to help you navigate any challenges.\n"
   ]
  }
 ],
 "metadata": {
  "kernelspec": {
   "display_name": "dsi_participant",
   "language": "python",
   "name": "python3"
  },
  "language_info": {
   "codemirror_mode": {
    "name": "ipython",
    "version": 3
   },
   "file_extension": ".py",
   "mimetype": "text/x-python",
   "name": "python",
   "nbconvert_exporter": "python",
   "pygments_lexer": "ipython3",
   "version": "3.9.15"
  }
 },
 "nbformat": 4,
 "nbformat_minor": 2
}
